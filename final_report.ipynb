{
 "cells": [
  {
   "cell_type": "markdown",
   "metadata": {},
   "source": [
    "# Project - Anomaly Detection Final Notebook"
   ]
  },
  {
   "cell_type": "markdown",
   "metadata": {},
   "source": [
    "## Goal:\n",
    "- To answer questions refering to Codeup Curriculum Access Logs"
   ]
  },
  {
   "cell_type": "markdown",
   "metadata": {},
   "source": [
    "### Imports:"
   ]
  },
  {
   "cell_type": "code",
   "execution_count": 23,
   "metadata": {},
   "outputs": [],
   "source": [
    "\n",
    "# imports\n",
    "import pandas as pd\n",
    "import numpy as np\n",
    "\n",
    "import matplotlib.pyplot as plt\n",
    "import matplotlib.dates as mdates\n",
    "import seaborn as sns\n",
    "from sklearn import metrics\n",
    "from random import randint\n",
    "from matplotlib import style\n",
    "import env \n",
    "import warnings\n",
    "warnings.filterwarnings(\"ignore\")\n",
    "import wrangle as w\n"
   ]
  },
  {
   "cell_type": "markdown",
   "metadata": {},
   "source": [
    "## Acquire"
   ]
  },
  {
   "cell_type": "markdown",
   "metadata": {},
   "source": [
    "Grab the logs from MySQL"
   ]
  },
  {
   "cell_type": "code",
   "execution_count": 24,
   "metadata": {},
   "outputs": [],
   "source": [
    "df = w.get_curlogs()"
   ]
  },
  {
   "cell_type": "code",
   "execution_count": 25,
   "metadata": {},
   "outputs": [
    {
     "data": {
      "text/plain": [
       "(900223, 6)"
      ]
     },
     "execution_count": 25,
     "metadata": {},
     "output_type": "execute_result"
    }
   ],
   "source": [
    "df.shape"
   ]
  },
  {
   "cell_type": "markdown",
   "metadata": {},
   "source": [
    "Grab the cohorts df from MySQL"
   ]
  },
  {
   "cell_type": "code",
   "execution_count": 26,
   "metadata": {},
   "outputs": [],
   "source": [
    "df2 = w.get_cohorts()"
   ]
  },
  {
   "cell_type": "code",
   "execution_count": 27,
   "metadata": {},
   "outputs": [
    {
     "data": {
      "text/plain": [
       "(53, 9)"
      ]
     },
     "execution_count": 27,
     "metadata": {},
     "output_type": "execute_result"
    }
   ],
   "source": [
    "df2.shape"
   ]
  },
  {
   "cell_type": "markdown",
   "metadata": {},
   "source": [
    "## Prepare"
   ]
  },
  {
   "cell_type": "markdown",
   "metadata": {},
   "source": [
    "- First Combine both dataframes\n",
    "- Fill NaN's with -1\n",
    "- Change 'cohort_id' to an 'int' type\n",
    "- Set index to date column as date type\n",
    "- Create 2 Columns, 'endpoint' and 'startpoint'\n",
    "- Drop 'time', 'slack', 'deleted_at', 'created_at', 'updated_at' Since we didn't use them for explore."
   ]
  },
  {
   "cell_type": "code",
   "execution_count": 28,
   "metadata": {},
   "outputs": [],
   "source": [
    "df = w.prep_logs(df, df2)"
   ]
  },
  {
   "cell_type": "code",
   "execution_count": 29,
   "metadata": {},
   "outputs": [
    {
     "data": {
      "text/plain": [
       "(900223, 12)"
      ]
     },
     "execution_count": 29,
     "metadata": {},
     "output_type": "execute_result"
    }
   ],
   "source": [
    "df.shape"
   ]
  },
  {
   "cell_type": "code",
   "execution_count": 30,
   "metadata": {},
   "outputs": [
    {
     "name": "stdout",
     "output_type": "stream",
     "text": [
      "Total rows: 900223\n",
      "Total columns: 12\n"
     ]
    },
    {
     "data": {
      "text/html": [
       "<div>\n",
       "<style scoped>\n",
       "    .dataframe tbody tr th:only-of-type {\n",
       "        vertical-align: middle;\n",
       "    }\n",
       "\n",
       "    .dataframe tbody tr th {\n",
       "        vertical-align: top;\n",
       "    }\n",
       "\n",
       "    .dataframe thead th {\n",
       "        text-align: right;\n",
       "    }\n",
       "</style>\n",
       "<table border=\"1\" class=\"dataframe\">\n",
       "  <thead>\n",
       "    <tr style=\"text-align: right;\">\n",
       "      <th></th>\n",
       "      <th>col_name</th>\n",
       "      <th>dtype</th>\n",
       "      <th>num_unique</th>\n",
       "      <th>num_null</th>\n",
       "      <th>pct_null</th>\n",
       "      <th>unique_values</th>\n",
       "      <th>range (min, max, mean)</th>\n",
       "    </tr>\n",
       "  </thead>\n",
       "  <tbody>\n",
       "    <tr>\n",
       "      <th>0</th>\n",
       "      <td>date</td>\n",
       "      <td>datetime64[ns]</td>\n",
       "      <td>1182</td>\n",
       "      <td>0</td>\n",
       "      <td>0.00000</td>\n",
       "      <td>[2018-01-26 00:00:00, 2018-01-27 00:00:00, 201...</td>\n",
       "      <td>None</td>\n",
       "    </tr>\n",
       "    <tr>\n",
       "      <th>1</th>\n",
       "      <td>path</td>\n",
       "      <td>object</td>\n",
       "      <td>2314</td>\n",
       "      <td>0</td>\n",
       "      <td>0.00000</td>\n",
       "      <td>[/, java-ii, java-ii/object-oriented-programmi...</td>\n",
       "      <td>None</td>\n",
       "    </tr>\n",
       "    <tr>\n",
       "      <th>2</th>\n",
       "      <td>user_id</td>\n",
       "      <td>int64</td>\n",
       "      <td>981</td>\n",
       "      <td>0</td>\n",
       "      <td>0.00000</td>\n",
       "      <td>[1, 2, 3, 4, 5, 6, 7, 8, 9, 10, 11, 12, 13, 14...</td>\n",
       "      <td>[1.0, 981.0, 458.82570651938465]</td>\n",
       "    </tr>\n",
       "    <tr>\n",
       "      <th>3</th>\n",
       "      <td>cohort_id</td>\n",
       "      <td>int64</td>\n",
       "      <td>48</td>\n",
       "      <td>0</td>\n",
       "      <td>0.00000</td>\n",
       "      <td>[8, 22, 21, 1, 16, 18, 19, -1, 13, 14, 15, 7, ...</td>\n",
       "      <td>[-1.0, 139.0, 45.592593168581566]</td>\n",
       "    </tr>\n",
       "    <tr>\n",
       "      <th>4</th>\n",
       "      <td>ip</td>\n",
       "      <td>object</td>\n",
       "      <td>5531</td>\n",
       "      <td>0</td>\n",
       "      <td>0.00000</td>\n",
       "      <td>[97.105.19.61, 71.137.146.71, 209.205.123.242,...</td>\n",
       "      <td>None</td>\n",
       "    </tr>\n",
       "    <tr>\n",
       "      <th>5</th>\n",
       "      <td>id</td>\n",
       "      <td>float64</td>\n",
       "      <td>47</td>\n",
       "      <td>52893</td>\n",
       "      <td>0.05876</td>\n",
       "      <td>[8.0, 22.0, 21.0, 1.0, 16.0, 18.0, 19.0, nan, ...</td>\n",
       "      <td>[1.0, 139.0, 48.501049178006205]</td>\n",
       "    </tr>\n",
       "    <tr>\n",
       "      <th>6</th>\n",
       "      <td>name</td>\n",
       "      <td>object</td>\n",
       "      <td>47</td>\n",
       "      <td>52893</td>\n",
       "      <td>0.05876</td>\n",
       "      <td>[Hampton, Teddy, Sequoia, Arches, Niagara, Pin...</td>\n",
       "      <td>None</td>\n",
       "    </tr>\n",
       "    <tr>\n",
       "      <th>7</th>\n",
       "      <td>start_date</td>\n",
       "      <td>object</td>\n",
       "      <td>44</td>\n",
       "      <td>52893</td>\n",
       "      <td>0.05876</td>\n",
       "      <td>[2015-09-22, 2018-01-08, 2017-09-27, 2014-02-0...</td>\n",
       "      <td>None</td>\n",
       "    </tr>\n",
       "    <tr>\n",
       "      <th>8</th>\n",
       "      <td>end_date</td>\n",
       "      <td>object</td>\n",
       "      <td>45</td>\n",
       "      <td>52893</td>\n",
       "      <td>0.05876</td>\n",
       "      <td>[2016-02-06, 2018-05-17, 2018-02-15, 2014-04-2...</td>\n",
       "      <td>None</td>\n",
       "    </tr>\n",
       "    <tr>\n",
       "      <th>9</th>\n",
       "      <td>program_id</td>\n",
       "      <td>float64</td>\n",
       "      <td>4</td>\n",
       "      <td>52893</td>\n",
       "      <td>0.05876</td>\n",
       "      <td>[1.0, 2.0, nan, 4.0, 3.0]</td>\n",
       "      <td>[1.0, 4.0, 2.0860042722434]</td>\n",
       "    </tr>\n",
       "    <tr>\n",
       "      <th>10</th>\n",
       "      <td>endpoint</td>\n",
       "      <td>object</td>\n",
       "      <td>1508</td>\n",
       "      <td>1</td>\n",
       "      <td>0.00000</td>\n",
       "      <td>[, java-ii, object-oriented-programming, objec...</td>\n",
       "      <td>None</td>\n",
       "    </tr>\n",
       "    <tr>\n",
       "      <th>11</th>\n",
       "      <td>startpoint</td>\n",
       "      <td>object</td>\n",
       "      <td>755</td>\n",
       "      <td>1</td>\n",
       "      <td>0.00000</td>\n",
       "      <td>[, java-ii, slides, javascript-i, mkdocs, git,...</td>\n",
       "      <td>None</td>\n",
       "    </tr>\n",
       "  </tbody>\n",
       "</table>\n",
       "</div>"
      ],
      "text/plain": [
       "      col_name           dtype  num_unique  num_null  pct_null  \\\n",
       "0         date  datetime64[ns]        1182         0   0.00000   \n",
       "1         path          object        2314         0   0.00000   \n",
       "2      user_id           int64         981         0   0.00000   \n",
       "3    cohort_id           int64          48         0   0.00000   \n",
       "4           ip          object        5531         0   0.00000   \n",
       "5           id         float64          47     52893   0.05876   \n",
       "6         name          object          47     52893   0.05876   \n",
       "7   start_date          object          44     52893   0.05876   \n",
       "8     end_date          object          45     52893   0.05876   \n",
       "9   program_id         float64           4     52893   0.05876   \n",
       "10    endpoint          object        1508         1   0.00000   \n",
       "11  startpoint          object         755         1   0.00000   \n",
       "\n",
       "                                        unique_values  \\\n",
       "0   [2018-01-26 00:00:00, 2018-01-27 00:00:00, 201...   \n",
       "1   [/, java-ii, java-ii/object-oriented-programmi...   \n",
       "2   [1, 2, 3, 4, 5, 6, 7, 8, 9, 10, 11, 12, 13, 14...   \n",
       "3   [8, 22, 21, 1, 16, 18, 19, -1, 13, 14, 15, 7, ...   \n",
       "4   [97.105.19.61, 71.137.146.71, 209.205.123.242,...   \n",
       "5   [8.0, 22.0, 21.0, 1.0, 16.0, 18.0, 19.0, nan, ...   \n",
       "6   [Hampton, Teddy, Sequoia, Arches, Niagara, Pin...   \n",
       "7   [2015-09-22, 2018-01-08, 2017-09-27, 2014-02-0...   \n",
       "8   [2016-02-06, 2018-05-17, 2018-02-15, 2014-04-2...   \n",
       "9                           [1.0, 2.0, nan, 4.0, 3.0]   \n",
       "10  [, java-ii, object-oriented-programming, objec...   \n",
       "11  [, java-ii, slides, javascript-i, mkdocs, git,...   \n",
       "\n",
       "               range (min, max, mean)  \n",
       "0                                None  \n",
       "1                                None  \n",
       "2    [1.0, 981.0, 458.82570651938465]  \n",
       "3   [-1.0, 139.0, 45.592593168581566]  \n",
       "4                                None  \n",
       "5    [1.0, 139.0, 48.501049178006205]  \n",
       "6                                None  \n",
       "7                                None  \n",
       "8                                None  \n",
       "9         [1.0, 4.0, 2.0860042722434]  \n",
       "10                               None  \n",
       "11                               None  "
      ]
     },
     "execution_count": 30,
     "metadata": {},
     "output_type": "execute_result"
    }
   ],
   "source": [
    "w.check_columns(df)"
   ]
  },
  {
   "cell_type": "code",
   "execution_count": 31,
   "metadata": {},
   "outputs": [
    {
     "data": {
      "text/html": [
       "<div>\n",
       "<style scoped>\n",
       "    .dataframe tbody tr th:only-of-type {\n",
       "        vertical-align: middle;\n",
       "    }\n",
       "\n",
       "    .dataframe tbody tr th {\n",
       "        vertical-align: top;\n",
       "    }\n",
       "\n",
       "    .dataframe thead th {\n",
       "        text-align: right;\n",
       "    }\n",
       "</style>\n",
       "<table border=\"1\" class=\"dataframe\">\n",
       "  <thead>\n",
       "    <tr style=\"text-align: right;\">\n",
       "      <th></th>\n",
       "      <th>date</th>\n",
       "      <th>path</th>\n",
       "      <th>user_id</th>\n",
       "      <th>cohort_id</th>\n",
       "      <th>ip</th>\n",
       "      <th>id</th>\n",
       "      <th>name</th>\n",
       "      <th>start_date</th>\n",
       "      <th>end_date</th>\n",
       "      <th>program_id</th>\n",
       "      <th>endpoint</th>\n",
       "      <th>startpoint</th>\n",
       "    </tr>\n",
       "    <tr>\n",
       "      <th>date</th>\n",
       "      <th></th>\n",
       "      <th></th>\n",
       "      <th></th>\n",
       "      <th></th>\n",
       "      <th></th>\n",
       "      <th></th>\n",
       "      <th></th>\n",
       "      <th></th>\n",
       "      <th></th>\n",
       "      <th></th>\n",
       "      <th></th>\n",
       "      <th></th>\n",
       "    </tr>\n",
       "  </thead>\n",
       "  <tbody>\n",
       "    <tr>\n",
       "      <th>2018-01-26</th>\n",
       "      <td>2018-01-26</td>\n",
       "      <td>/</td>\n",
       "      <td>1</td>\n",
       "      <td>8</td>\n",
       "      <td>97.105.19.61</td>\n",
       "      <td>8.0</td>\n",
       "      <td>Hampton</td>\n",
       "      <td>2015-09-22</td>\n",
       "      <td>2016-02-06</td>\n",
       "      <td>1.0</td>\n",
       "      <td></td>\n",
       "      <td></td>\n",
       "    </tr>\n",
       "    <tr>\n",
       "      <th>2018-01-26</th>\n",
       "      <td>2018-01-26</td>\n",
       "      <td>java-ii</td>\n",
       "      <td>1</td>\n",
       "      <td>8</td>\n",
       "      <td>97.105.19.61</td>\n",
       "      <td>8.0</td>\n",
       "      <td>Hampton</td>\n",
       "      <td>2015-09-22</td>\n",
       "      <td>2016-02-06</td>\n",
       "      <td>1.0</td>\n",
       "      <td>java-ii</td>\n",
       "      <td>java-ii</td>\n",
       "    </tr>\n",
       "    <tr>\n",
       "      <th>2018-01-26</th>\n",
       "      <td>2018-01-26</td>\n",
       "      <td>java-ii/object-oriented-programming</td>\n",
       "      <td>1</td>\n",
       "      <td>8</td>\n",
       "      <td>97.105.19.61</td>\n",
       "      <td>8.0</td>\n",
       "      <td>Hampton</td>\n",
       "      <td>2015-09-22</td>\n",
       "      <td>2016-02-06</td>\n",
       "      <td>1.0</td>\n",
       "      <td>object-oriented-programming</td>\n",
       "      <td>java-ii</td>\n",
       "    </tr>\n",
       "    <tr>\n",
       "      <th>2018-01-26</th>\n",
       "      <td>2018-01-26</td>\n",
       "      <td>slides/object_oriented_programming</td>\n",
       "      <td>1</td>\n",
       "      <td>8</td>\n",
       "      <td>97.105.19.61</td>\n",
       "      <td>8.0</td>\n",
       "      <td>Hampton</td>\n",
       "      <td>2015-09-22</td>\n",
       "      <td>2016-02-06</td>\n",
       "      <td>1.0</td>\n",
       "      <td>object_oriented_programming</td>\n",
       "      <td>slides</td>\n",
       "    </tr>\n",
       "    <tr>\n",
       "      <th>2018-01-26</th>\n",
       "      <td>2018-01-26</td>\n",
       "      <td>javascript-i/conditionals</td>\n",
       "      <td>2</td>\n",
       "      <td>22</td>\n",
       "      <td>97.105.19.61</td>\n",
       "      <td>22.0</td>\n",
       "      <td>Teddy</td>\n",
       "      <td>2018-01-08</td>\n",
       "      <td>2018-05-17</td>\n",
       "      <td>2.0</td>\n",
       "      <td>conditionals</td>\n",
       "      <td>javascript-i</td>\n",
       "    </tr>\n",
       "  </tbody>\n",
       "</table>\n",
       "</div>"
      ],
      "text/plain": [
       "                 date                                 path  user_id  \\\n",
       "date                                                                  \n",
       "2018-01-26 2018-01-26                                    /        1   \n",
       "2018-01-26 2018-01-26                              java-ii        1   \n",
       "2018-01-26 2018-01-26  java-ii/object-oriented-programming        1   \n",
       "2018-01-26 2018-01-26   slides/object_oriented_programming        1   \n",
       "2018-01-26 2018-01-26            javascript-i/conditionals        2   \n",
       "\n",
       "            cohort_id            ip    id     name  start_date    end_date  \\\n",
       "date                                                                         \n",
       "2018-01-26          8  97.105.19.61   8.0  Hampton  2015-09-22  2016-02-06   \n",
       "2018-01-26          8  97.105.19.61   8.0  Hampton  2015-09-22  2016-02-06   \n",
       "2018-01-26          8  97.105.19.61   8.0  Hampton  2015-09-22  2016-02-06   \n",
       "2018-01-26          8  97.105.19.61   8.0  Hampton  2015-09-22  2016-02-06   \n",
       "2018-01-26         22  97.105.19.61  22.0    Teddy  2018-01-08  2018-05-17   \n",
       "\n",
       "            program_id                     endpoint    startpoint  \n",
       "date                                                               \n",
       "2018-01-26         1.0                                             \n",
       "2018-01-26         1.0                      java-ii       java-ii  \n",
       "2018-01-26         1.0  object-oriented-programming       java-ii  \n",
       "2018-01-26         1.0  object_oriented_programming        slides  \n",
       "2018-01-26         2.0                 conditionals  javascript-i  "
      ]
     },
     "execution_count": 31,
     "metadata": {},
     "output_type": "execute_result"
    }
   ],
   "source": [
    "df.head()"
   ]
  },
  {
   "cell_type": "markdown",
   "metadata": {},
   "source": [
    "### Data dictionary:\n",
    "\n",
    "| Feature | Definition |\n",
    "|--------|-----------|\n",
    "|date| date accessed, datetime64|\n",
    "|path| complete filepath, object|\n",
    "|user_id| user specific id number, int64|\n",
    "|cohort_id| number associated with cohort name, int64|\n",
    "|ip| ip address, object|\n",
    "|id| number associated with cohort name, float|\n",
    "|name| cohort name, object|\n",
    "|start_date| start date for user in cohort|\n",
    "|end_date| end date for user in cohort|\n",
    "|program_id| number associated with program type, float|\n",
    "|endpoint| end of file path, object|\n",
    "|startpoint| start of file path, object|"
   ]
  },
  {
   "cell_type": "markdown",
   "metadata": {},
   "source": [
    "## Explore"
   ]
  },
  {
   "cell_type": "markdown",
   "metadata": {},
   "source": [
    "### 1. Which lesson appears to attract the most traffic consistently across cohorts (per program)?\n"
   ]
  },
  {
   "cell_type": "code",
   "execution_count": 32,
   "metadata": {},
   "outputs": [],
   "source": [
    "# Split df by program_id and take top ten paths\n",
    "pgm1, pgm2, pgm3, pgm4 = w.split_by_program(df)"
   ]
  },
  {
   "cell_type": "code",
   "execution_count": 33,
   "metadata": {},
   "outputs": [
    {
     "data": {
      "image/png": "[encoded data removed]",
      "text/plain": [
       "<Figure size 640x480 with 1 Axes>"
      ]
     },
     "metadata": {},
     "output_type": "display_data"
    },
    {
     "data": {
      "image/png": "[encoded data removed]",
      "text/plain": [
       "<Figure size 640x480 with 1 Axes>"
      ]
     },
     "metadata": {},
     "output_type": "display_data"
    },
    {
     "data": {
      "image/png": "[encoded data removed]",
      "text/plain": [
       "<Figure size 640x480 with 1 Axes>"
      ]
     },
     "metadata": {},
     "output_type": "display_data"
    },
    {
     "data": {
      "image/png": "[encoded data removed]",
      "text/plain": [
       "<Figure size 640x480 with 1 Axes>"
      ]
     },
     "metadata": {},
     "output_type": "display_data"
    }
   ],
   "source": [
    "pgm1.path.value_counts().head(10).plot.barh()\n",
    "plt.title('Top 10 Lessons by Program 1')\n",
    "plt.show()\n",
    "pgm2.path.value_counts().head(10).plot.barh()\n",
    "plt.title('Top 10 Lessons by Program 2')\n",
    "plt.show()\n",
    "pgm3.path.value_counts().head(10).plot.barh()\n",
    "plt.title('Top 10 Lessons by Program 3')\n",
    "plt.show()\n",
    "pgm4.path.value_counts().head(10).plot.barh()\n",
    "plt.title('Top 10 Lessons by Program 4')\n",
    "plt.show()"
   ]
  },
  {
   "cell_type": "markdown",
   "metadata": {},
   "source": [
    "### Program 1 - Javascript i <p>\n",
    "### Program 2 - Javascript i<p>\n",
    "### Program 3 - Classification<p>\n",
    "### Program 4 - HTML-CSS<p>"
   ]
  },
  {
   "cell_type": "markdown",
   "metadata": {},
   "source": [
    "### 2. Is there a cohort that referred to a lesson significantly more than other cohorts seemed to gloss over?"
   ]
  },
  {
   "cell_type": "code",
   "execution_count": 34,
   "metadata": {},
   "outputs": [
    {
     "data": {
      "text/html": [
       "<div>\n",
       "<style scoped>\n",
       "    .dataframe tbody tr th:only-of-type {\n",
       "        vertical-align: middle;\n",
       "    }\n",
       "\n",
       "    .dataframe tbody tr th {\n",
       "        vertical-align: top;\n",
       "    }\n",
       "\n",
       "    .dataframe thead th {\n",
       "        text-align: right;\n",
       "    }\n",
       "</style>\n",
       "<table border=\"1\" class=\"dataframe\">\n",
       "  <thead>\n",
       "    <tr style=\"text-align: right;\">\n",
       "      <th></th>\n",
       "      <th>name</th>\n",
       "      <th>path</th>\n",
       "      <th>prob_path_giving_cohort</th>\n",
       "    </tr>\n",
       "  </thead>\n",
       "  <tbody>\n",
       "    <tr>\n",
       "      <th>4100</th>\n",
       "      <td>Everglades</td>\n",
       "      <td>/</td>\n",
       "      <td>1.000000</td>\n",
       "    </tr>\n",
       "    <tr>\n",
       "      <th>639</th>\n",
       "      <td>Apollo</td>\n",
       "      <td>content/html-css</td>\n",
       "      <td>0.400000</td>\n",
       "    </tr>\n",
       "    <tr>\n",
       "      <th>3600</th>\n",
       "      <td>Denali</td>\n",
       "      <td>prework/databases</td>\n",
       "      <td>0.250000</td>\n",
       "    </tr>\n",
       "    <tr>\n",
       "      <th>3601</th>\n",
       "      <td>Denali</td>\n",
       "      <td>mkdocs/search_index.json</td>\n",
       "      <td>0.250000</td>\n",
       "    </tr>\n",
       "    <tr>\n",
       "      <th>3602</th>\n",
       "      <td>Denali</td>\n",
       "      <td>/</td>\n",
       "      <td>0.250000</td>\n",
       "    </tr>\n",
       "    <tr>\n",
       "      <th>3599</th>\n",
       "      <td>Denali</td>\n",
       "      <td>prework/versioning/github</td>\n",
       "      <td>0.250000</td>\n",
       "    </tr>\n",
       "    <tr>\n",
       "      <th>642</th>\n",
       "      <td>Apollo</td>\n",
       "      <td>content/html-css/introduction.html</td>\n",
       "      <td>0.200000</td>\n",
       "    </tr>\n",
       "    <tr>\n",
       "      <th>641</th>\n",
       "      <td>Apollo</td>\n",
       "      <td>content/html-css/gitbook/images/favicon.ico</td>\n",
       "      <td>0.200000</td>\n",
       "    </tr>\n",
       "    <tr>\n",
       "      <th>640</th>\n",
       "      <td>Apollo</td>\n",
       "      <td>/</td>\n",
       "      <td>0.200000</td>\n",
       "    </tr>\n",
       "    <tr>\n",
       "      <th>985</th>\n",
       "      <td>Badlands</td>\n",
       "      <td>/</td>\n",
       "      <td>0.182796</td>\n",
       "    </tr>\n",
       "  </tbody>\n",
       "</table>\n",
       "</div>"
      ],
      "text/plain": [
       "            name                                         path  \\\n",
       "4100  Everglades                                            /   \n",
       "639       Apollo                             content/html-css   \n",
       "3600      Denali                            prework/databases   \n",
       "3601      Denali                     mkdocs/search_index.json   \n",
       "3602      Denali                                            /   \n",
       "3599      Denali                    prework/versioning/github   \n",
       "642       Apollo           content/html-css/introduction.html   \n",
       "641       Apollo  content/html-css/gitbook/images/favicon.ico   \n",
       "640       Apollo                                            /   \n",
       "985     Badlands                                            /   \n",
       "\n",
       "      prob_path_giving_cohort  \n",
       "4100                 1.000000  \n",
       "639                  0.400000  \n",
       "3600                 0.250000  \n",
       "3601                 0.250000  \n",
       "3602                 0.250000  \n",
       "3599                 0.250000  \n",
       "642                  0.200000  \n",
       "641                  0.200000  \n",
       "640                  0.200000  \n",
       "985                  0.182796  "
      ]
     },
     "execution_count": 34,
     "metadata": {},
     "output_type": "execute_result"
    }
   ],
   "source": [
    "status_given_cohort = (df.groupby('name').path.value_counts(normalize=True).rename('prob_path_giving_cohort').reset_index())\n",
    "status_given_cohort.sort_values('prob_path_giving_cohort', ascending=False).head(10)"
   ]
  },
  {
   "cell_type": "markdown",
   "metadata": {},
   "source": [
    "### We can say that the 'Apollo' Cohort spent alot more time in HTML-CSS than others."
   ]
  },
  {
   "cell_type": "markdown",
   "metadata": {},
   "source": [
    "### 3. Are there students who, when active, hardly access the curriculum? If so, what information do you have about these students?"
   ]
  },
  {
   "cell_type": "code",
   "execution_count": 35,
   "metadata": {},
   "outputs": [
    {
     "data": {
      "text/plain": [
       "user_id\n",
       "918    1\n",
       "879    1\n",
       "940    1\n",
       "619    1\n",
       "832    3\n",
       "278    4\n",
       "539    5\n",
       "956    6\n",
       "812    7\n",
       "388    8\n",
       "Name: date, dtype: int64"
      ]
     },
     "execution_count": 35,
     "metadata": {},
     "output_type": "execute_result"
    }
   ],
   "source": [
    "# so by user_id, count amount of times they are hit on log, \n",
    "# and see if it is between start_date, and end_date\n",
    "within_date = (df['date'] >= df['start_date']) & (df['date'] <= df['end_date'])\n",
    "df[within_date].groupby('user_id').count()['date'].sort_values(ascending=True).head(10)"
   ]
  },
  {
   "cell_type": "code",
   "execution_count": 36,
   "metadata": {},
   "outputs": [
    {
     "data": {
      "text/html": [
       "<div>\n",
       "<style scoped>\n",
       "    .dataframe tbody tr th:only-of-type {\n",
       "        vertical-align: middle;\n",
       "    }\n",
       "\n",
       "    .dataframe tbody tr th {\n",
       "        vertical-align: top;\n",
       "    }\n",
       "\n",
       "    .dataframe thead th {\n",
       "        text-align: right;\n",
       "    }\n",
       "</style>\n",
       "<table border=\"1\" class=\"dataframe\">\n",
       "  <thead>\n",
       "    <tr style=\"text-align: right;\">\n",
       "      <th></th>\n",
       "      <th>date</th>\n",
       "      <th>path</th>\n",
       "      <th>user_id</th>\n",
       "      <th>cohort_id</th>\n",
       "      <th>ip</th>\n",
       "      <th>id</th>\n",
       "      <th>name</th>\n",
       "      <th>start_date</th>\n",
       "      <th>end_date</th>\n",
       "      <th>program_id</th>\n",
       "      <th>endpoint</th>\n",
       "      <th>startpoint</th>\n",
       "    </tr>\n",
       "    <tr>\n",
       "      <th>date</th>\n",
       "      <th></th>\n",
       "      <th></th>\n",
       "      <th></th>\n",
       "      <th></th>\n",
       "      <th></th>\n",
       "      <th></th>\n",
       "      <th></th>\n",
       "      <th></th>\n",
       "      <th></th>\n",
       "      <th></th>\n",
       "      <th></th>\n",
       "      <th></th>\n",
       "    </tr>\n",
       "  </thead>\n",
       "  <tbody>\n",
       "    <tr>\n",
       "      <th>2021-03-15</th>\n",
       "      <td>2021-03-15</td>\n",
       "      <td>/</td>\n",
       "      <td>918</td>\n",
       "      <td>138</td>\n",
       "      <td>71.221.46.112</td>\n",
       "      <td>138.0</td>\n",
       "      <td>Neptune</td>\n",
       "      <td>2021-03-15</td>\n",
       "      <td>2021-09-03</td>\n",
       "      <td>2.0</td>\n",
       "      <td></td>\n",
       "      <td></td>\n",
       "    </tr>\n",
       "  </tbody>\n",
       "</table>\n",
       "</div>"
      ],
      "text/plain": [
       "                 date path  user_id  cohort_id             ip     id     name  \\\n",
       "date                                                                            \n",
       "2021-03-15 2021-03-15    /      918        138  71.221.46.112  138.0  Neptune   \n",
       "\n",
       "            start_date    end_date  program_id endpoint startpoint  \n",
       "date                                                                \n",
       "2021-03-15  2021-03-15  2021-09-03         2.0                      "
      ]
     },
     "metadata": {},
     "output_type": "display_data"
    },
    {
     "name": "stdout",
     "output_type": "stream",
     "text": [
      "This student appears to have dropped the course possibly since the access was on day one and then not again.\n"
     ]
    },
    {
     "data": {
      "text/html": [
       "<div>\n",
       "<style scoped>\n",
       "    .dataframe tbody tr th:only-of-type {\n",
       "        vertical-align: middle;\n",
       "    }\n",
       "\n",
       "    .dataframe tbody tr th {\n",
       "        vertical-align: top;\n",
       "    }\n",
       "\n",
       "    .dataframe thead th {\n",
       "        text-align: right;\n",
       "    }\n",
       "</style>\n",
       "<table border=\"1\" class=\"dataframe\">\n",
       "  <thead>\n",
       "    <tr style=\"text-align: right;\">\n",
       "      <th></th>\n",
       "      <th>date</th>\n",
       "      <th>path</th>\n",
       "      <th>user_id</th>\n",
       "      <th>cohort_id</th>\n",
       "      <th>ip</th>\n",
       "      <th>id</th>\n",
       "      <th>name</th>\n",
       "      <th>start_date</th>\n",
       "      <th>end_date</th>\n",
       "      <th>program_id</th>\n",
       "      <th>endpoint</th>\n",
       "      <th>startpoint</th>\n",
       "    </tr>\n",
       "    <tr>\n",
       "      <th>date</th>\n",
       "      <th></th>\n",
       "      <th></th>\n",
       "      <th></th>\n",
       "      <th></th>\n",
       "      <th></th>\n",
       "      <th></th>\n",
       "      <th></th>\n",
       "      <th></th>\n",
       "      <th></th>\n",
       "      <th></th>\n",
       "      <th></th>\n",
       "      <th></th>\n",
       "    </tr>\n",
       "  </thead>\n",
       "  <tbody>\n",
       "    <tr>\n",
       "      <th>2021-01-26</th>\n",
       "      <td>2021-01-26</td>\n",
       "      <td>/</td>\n",
       "      <td>879</td>\n",
       "      <td>135</td>\n",
       "      <td>136.50.50.187</td>\n",
       "      <td>135.0</td>\n",
       "      <td>Marco</td>\n",
       "      <td>2021-01-25</td>\n",
       "      <td>2021-07-19</td>\n",
       "      <td>2.0</td>\n",
       "      <td></td>\n",
       "      <td></td>\n",
       "    </tr>\n",
       "  </tbody>\n",
       "</table>\n",
       "</div>"
      ],
      "text/plain": [
       "                 date path  user_id  cohort_id             ip     id   name  \\\n",
       "date                                                                          \n",
       "2021-01-26 2021-01-26    /      879        135  136.50.50.187  135.0  Marco   \n",
       "\n",
       "            start_date    end_date  program_id endpoint startpoint  \n",
       "date                                                                \n",
       "2021-01-26  2021-01-25  2021-07-19         2.0                      "
      ]
     },
     "metadata": {},
     "output_type": "display_data"
    },
    {
     "name": "stdout",
     "output_type": "stream",
     "text": [
      "Same as student above possibly\n"
     ]
    },
    {
     "data": {
      "text/html": [
       "<div>\n",
       "<style scoped>\n",
       "    .dataframe tbody tr th:only-of-type {\n",
       "        vertical-align: middle;\n",
       "    }\n",
       "\n",
       "    .dataframe tbody tr th {\n",
       "        vertical-align: top;\n",
       "    }\n",
       "\n",
       "    .dataframe thead th {\n",
       "        text-align: right;\n",
       "    }\n",
       "</style>\n",
       "<table border=\"1\" class=\"dataframe\">\n",
       "  <thead>\n",
       "    <tr style=\"text-align: right;\">\n",
       "      <th></th>\n",
       "      <th>date</th>\n",
       "      <th>path</th>\n",
       "      <th>user_id</th>\n",
       "      <th>cohort_id</th>\n",
       "      <th>ip</th>\n",
       "      <th>id</th>\n",
       "      <th>name</th>\n",
       "      <th>start_date</th>\n",
       "      <th>end_date</th>\n",
       "      <th>program_id</th>\n",
       "      <th>endpoint</th>\n",
       "      <th>startpoint</th>\n",
       "    </tr>\n",
       "    <tr>\n",
       "      <th>date</th>\n",
       "      <th></th>\n",
       "      <th></th>\n",
       "      <th></th>\n",
       "      <th></th>\n",
       "      <th></th>\n",
       "      <th></th>\n",
       "      <th></th>\n",
       "      <th></th>\n",
       "      <th></th>\n",
       "      <th></th>\n",
       "      <th></th>\n",
       "      <th></th>\n",
       "    </tr>\n",
       "  </thead>\n",
       "  <tbody>\n",
       "    <tr>\n",
       "      <th>2021-03-15</th>\n",
       "      <td>2021-03-15</td>\n",
       "      <td>/</td>\n",
       "      <td>940</td>\n",
       "      <td>138</td>\n",
       "      <td>70.121.129.79</td>\n",
       "      <td>138.0</td>\n",
       "      <td>Neptune</td>\n",
       "      <td>2021-03-15</td>\n",
       "      <td>2021-09-03</td>\n",
       "      <td>2.0</td>\n",
       "      <td></td>\n",
       "      <td></td>\n",
       "    </tr>\n",
       "  </tbody>\n",
       "</table>\n",
       "</div>"
      ],
      "text/plain": [
       "                 date path  user_id  cohort_id             ip     id     name  \\\n",
       "date                                                                            \n",
       "2021-03-15 2021-03-15    /      940        138  70.121.129.79  138.0  Neptune   \n",
       "\n",
       "            start_date    end_date  program_id endpoint startpoint  \n",
       "date                                                                \n",
       "2021-03-15  2021-03-15  2021-09-03         2.0                      "
      ]
     },
     "metadata": {},
     "output_type": "display_data"
    },
    {
     "name": "stdout",
     "output_type": "stream",
     "text": [
      "Possibly same fate as students above\n"
     ]
    },
    {
     "data": {
      "text/html": [
       "<div>\n",
       "<style scoped>\n",
       "    .dataframe tbody tr th:only-of-type {\n",
       "        vertical-align: middle;\n",
       "    }\n",
       "\n",
       "    .dataframe tbody tr th {\n",
       "        vertical-align: top;\n",
       "    }\n",
       "\n",
       "    .dataframe thead th {\n",
       "        text-align: right;\n",
       "    }\n",
       "</style>\n",
       "<table border=\"1\" class=\"dataframe\">\n",
       "  <thead>\n",
       "    <tr style=\"text-align: right;\">\n",
       "      <th></th>\n",
       "      <th>date</th>\n",
       "      <th>path</th>\n",
       "      <th>user_id</th>\n",
       "      <th>cohort_id</th>\n",
       "      <th>ip</th>\n",
       "      <th>id</th>\n",
       "      <th>name</th>\n",
       "      <th>start_date</th>\n",
       "      <th>end_date</th>\n",
       "      <th>program_id</th>\n",
       "      <th>endpoint</th>\n",
       "      <th>startpoint</th>\n",
       "    </tr>\n",
       "    <tr>\n",
       "      <th>date</th>\n",
       "      <th></th>\n",
       "      <th></th>\n",
       "      <th></th>\n",
       "      <th></th>\n",
       "      <th></th>\n",
       "      <th></th>\n",
       "      <th></th>\n",
       "      <th></th>\n",
       "      <th></th>\n",
       "      <th></th>\n",
       "      <th></th>\n",
       "      <th></th>\n",
       "    </tr>\n",
       "  </thead>\n",
       "  <tbody>\n",
       "    <tr>\n",
       "      <th>2020-03-23</th>\n",
       "      <td>2020-03-23</td>\n",
       "      <td>/</td>\n",
       "      <td>619</td>\n",
       "      <td>57</td>\n",
       "      <td>97.105.19.58</td>\n",
       "      <td>57.0</td>\n",
       "      <td>Ganymede</td>\n",
       "      <td>2020-03-23</td>\n",
       "      <td>2020-08-20</td>\n",
       "      <td>2.0</td>\n",
       "      <td></td>\n",
       "      <td></td>\n",
       "    </tr>\n",
       "  </tbody>\n",
       "</table>\n",
       "</div>"
      ],
      "text/plain": [
       "                 date path  user_id  cohort_id            ip    id      name  \\\n",
       "date                                                                           \n",
       "2020-03-23 2020-03-23    /      619         57  97.105.19.58  57.0  Ganymede   \n",
       "\n",
       "            start_date    end_date  program_id endpoint startpoint  \n",
       "date                                                                \n",
       "2020-03-23  2020-03-23  2020-08-20         2.0                      "
      ]
     },
     "metadata": {},
     "output_type": "display_data"
    },
    {
     "name": "stdout",
     "output_type": "stream",
     "text": [
      "Same as students above\n"
     ]
    },
    {
     "data": {
      "text/html": [
       "<div>\n",
       "<style scoped>\n",
       "    .dataframe tbody tr th:only-of-type {\n",
       "        vertical-align: middle;\n",
       "    }\n",
       "\n",
       "    .dataframe tbody tr th {\n",
       "        vertical-align: top;\n",
       "    }\n",
       "\n",
       "    .dataframe thead th {\n",
       "        text-align: right;\n",
       "    }\n",
       "</style>\n",
       "<table border=\"1\" class=\"dataframe\">\n",
       "  <thead>\n",
       "    <tr style=\"text-align: right;\">\n",
       "      <th></th>\n",
       "      <th>date</th>\n",
       "      <th>path</th>\n",
       "      <th>user_id</th>\n",
       "      <th>cohort_id</th>\n",
       "      <th>ip</th>\n",
       "      <th>id</th>\n",
       "      <th>name</th>\n",
       "      <th>start_date</th>\n",
       "      <th>end_date</th>\n",
       "      <th>program_id</th>\n",
       "      <th>endpoint</th>\n",
       "      <th>startpoint</th>\n",
       "    </tr>\n",
       "    <tr>\n",
       "      <th>date</th>\n",
       "      <th></th>\n",
       "      <th></th>\n",
       "      <th></th>\n",
       "      <th></th>\n",
       "      <th></th>\n",
       "      <th></th>\n",
       "      <th></th>\n",
       "      <th></th>\n",
       "      <th></th>\n",
       "      <th></th>\n",
       "      <th></th>\n",
       "      <th></th>\n",
       "    </tr>\n",
       "  </thead>\n",
       "  <tbody>\n",
       "    <tr>\n",
       "      <th>2020-12-07</th>\n",
       "      <td>2020-12-07</td>\n",
       "      <td>/</td>\n",
       "      <td>832</td>\n",
       "      <td>62</td>\n",
       "      <td>69.154.52.98</td>\n",
       "      <td>62.0</td>\n",
       "      <td>Jupiter</td>\n",
       "      <td>2020-09-21</td>\n",
       "      <td>2021-03-30</td>\n",
       "      <td>2.0</td>\n",
       "      <td></td>\n",
       "      <td></td>\n",
       "    </tr>\n",
       "  </tbody>\n",
       "</table>\n",
       "</div>"
      ],
      "text/plain": [
       "                 date path  user_id  cohort_id            ip    id     name  \\\n",
       "date                                                                          \n",
       "2020-12-07 2020-12-07    /      832         62  69.154.52.98  62.0  Jupiter   \n",
       "\n",
       "            start_date    end_date  program_id endpoint startpoint  \n",
       "date                                                                \n",
       "2020-12-07  2020-09-21  2021-03-30         2.0                      "
      ]
     },
     "metadata": {},
     "output_type": "display_data"
    },
    {
     "name": "stdout",
     "output_type": "stream",
     "text": [
      "# Not completely sure about this student, accessed it halfway through course\n"
     ]
    },
    {
     "data": {
      "text/html": [
       "<div>\n",
       "<style scoped>\n",
       "    .dataframe tbody tr th:only-of-type {\n",
       "        vertical-align: middle;\n",
       "    }\n",
       "\n",
       "    .dataframe tbody tr th {\n",
       "        vertical-align: top;\n",
       "    }\n",
       "\n",
       "    .dataframe thead th {\n",
       "        text-align: right;\n",
       "    }\n",
       "</style>\n",
       "<table border=\"1\" class=\"dataframe\">\n",
       "  <thead>\n",
       "    <tr style=\"text-align: right;\">\n",
       "      <th></th>\n",
       "      <th>date</th>\n",
       "      <th>path</th>\n",
       "      <th>user_id</th>\n",
       "      <th>cohort_id</th>\n",
       "      <th>ip</th>\n",
       "      <th>id</th>\n",
       "      <th>name</th>\n",
       "      <th>start_date</th>\n",
       "      <th>end_date</th>\n",
       "      <th>program_id</th>\n",
       "      <th>endpoint</th>\n",
       "      <th>startpoint</th>\n",
       "    </tr>\n",
       "    <tr>\n",
       "      <th>date</th>\n",
       "      <th></th>\n",
       "      <th></th>\n",
       "      <th></th>\n",
       "      <th></th>\n",
       "      <th></th>\n",
       "      <th></th>\n",
       "      <th></th>\n",
       "      <th></th>\n",
       "      <th></th>\n",
       "      <th></th>\n",
       "      <th></th>\n",
       "      <th></th>\n",
       "    </tr>\n",
       "  </thead>\n",
       "  <tbody>\n",
       "    <tr>\n",
       "      <th>2018-09-27</th>\n",
       "      <td>2018-09-27</td>\n",
       "      <td>/</td>\n",
       "      <td>278</td>\n",
       "      <td>24</td>\n",
       "      <td>97.105.19.58</td>\n",
       "      <td>24.0</td>\n",
       "      <td>Voyageurs</td>\n",
       "      <td>2018-05-29</td>\n",
       "      <td>2018-10-11</td>\n",
       "      <td>2.0</td>\n",
       "      <td></td>\n",
       "      <td></td>\n",
       "    </tr>\n",
       "  </tbody>\n",
       "</table>\n",
       "</div>"
      ],
      "text/plain": [
       "                 date path  user_id  cohort_id            ip    id       name  \\\n",
       "date                                                                            \n",
       "2018-09-27 2018-09-27    /      278         24  97.105.19.58  24.0  Voyageurs   \n",
       "\n",
       "            start_date    end_date  program_id endpoint startpoint  \n",
       "date                                                                \n",
       "2018-09-27  2018-05-29  2018-10-11         2.0                      "
      ]
     },
     "metadata": {},
     "output_type": "display_data"
    },
    {
     "name": "stdout",
     "output_type": "stream",
     "text": [
      "this student accessed the book more after they graduated than while in the course, and it appears they had access to both web dev and ds content\n"
     ]
    },
    {
     "data": {
      "text/html": [
       "<div>\n",
       "<style scoped>\n",
       "    .dataframe tbody tr th:only-of-type {\n",
       "        vertical-align: middle;\n",
       "    }\n",
       "\n",
       "    .dataframe tbody tr th {\n",
       "        vertical-align: top;\n",
       "    }\n",
       "\n",
       "    .dataframe thead th {\n",
       "        text-align: right;\n",
       "    }\n",
       "</style>\n",
       "<table border=\"1\" class=\"dataframe\">\n",
       "  <thead>\n",
       "    <tr style=\"text-align: right;\">\n",
       "      <th></th>\n",
       "      <th>date</th>\n",
       "      <th>path</th>\n",
       "      <th>user_id</th>\n",
       "      <th>cohort_id</th>\n",
       "      <th>ip</th>\n",
       "      <th>id</th>\n",
       "      <th>name</th>\n",
       "      <th>start_date</th>\n",
       "      <th>end_date</th>\n",
       "      <th>program_id</th>\n",
       "      <th>endpoint</th>\n",
       "      <th>startpoint</th>\n",
       "    </tr>\n",
       "    <tr>\n",
       "      <th>date</th>\n",
       "      <th></th>\n",
       "      <th></th>\n",
       "      <th></th>\n",
       "      <th></th>\n",
       "      <th></th>\n",
       "      <th></th>\n",
       "      <th></th>\n",
       "      <th></th>\n",
       "      <th></th>\n",
       "      <th></th>\n",
       "      <th></th>\n",
       "      <th></th>\n",
       "    </tr>\n",
       "  </thead>\n",
       "  <tbody>\n",
       "    <tr>\n",
       "      <th>2019-11-04</th>\n",
       "      <td>2019-11-04</td>\n",
       "      <td>/</td>\n",
       "      <td>539</td>\n",
       "      <td>52</td>\n",
       "      <td>97.105.19.58</td>\n",
       "      <td>52.0</td>\n",
       "      <td>Europa</td>\n",
       "      <td>2019-11-04</td>\n",
       "      <td>2020-04-17</td>\n",
       "      <td>2.0</td>\n",
       "      <td></td>\n",
       "      <td></td>\n",
       "    </tr>\n",
       "  </tbody>\n",
       "</table>\n",
       "</div>"
      ],
      "text/plain": [
       "                 date path  user_id  cohort_id            ip    id    name  \\\n",
       "date                                                                         \n",
       "2019-11-04 2019-11-04    /      539         52  97.105.19.58  52.0  Europa   \n",
       "\n",
       "            start_date    end_date  program_id endpoint startpoint  \n",
       "date                                                                \n",
       "2019-11-04  2019-11-04  2020-04-17         2.0                      "
      ]
     },
     "metadata": {},
     "output_type": "display_data"
    },
    {
     "name": "stdout",
     "output_type": "stream",
     "text": [
      "Appears to be a staff member\n"
     ]
    },
    {
     "data": {
      "text/html": [
       "<div>\n",
       "<style scoped>\n",
       "    .dataframe tbody tr th:only-of-type {\n",
       "        vertical-align: middle;\n",
       "    }\n",
       "\n",
       "    .dataframe tbody tr th {\n",
       "        vertical-align: top;\n",
       "    }\n",
       "\n",
       "    .dataframe thead th {\n",
       "        text-align: right;\n",
       "    }\n",
       "</style>\n",
       "<table border=\"1\" class=\"dataframe\">\n",
       "  <thead>\n",
       "    <tr style=\"text-align: right;\">\n",
       "      <th></th>\n",
       "      <th>date</th>\n",
       "      <th>path</th>\n",
       "      <th>user_id</th>\n",
       "      <th>cohort_id</th>\n",
       "      <th>ip</th>\n",
       "      <th>id</th>\n",
       "      <th>name</th>\n",
       "      <th>start_date</th>\n",
       "      <th>end_date</th>\n",
       "      <th>program_id</th>\n",
       "      <th>endpoint</th>\n",
       "      <th>startpoint</th>\n",
       "    </tr>\n",
       "    <tr>\n",
       "      <th>date</th>\n",
       "      <th></th>\n",
       "      <th></th>\n",
       "      <th></th>\n",
       "      <th></th>\n",
       "      <th></th>\n",
       "      <th></th>\n",
       "      <th></th>\n",
       "      <th></th>\n",
       "      <th></th>\n",
       "      <th></th>\n",
       "      <th></th>\n",
       "      <th></th>\n",
       "    </tr>\n",
       "  </thead>\n",
       "  <tbody>\n",
       "    <tr>\n",
       "      <th>2021-04-12</th>\n",
       "      <td>2021-04-12</td>\n",
       "      <td>/</td>\n",
       "      <td>956</td>\n",
       "      <td>139</td>\n",
       "      <td>162.200.114.251</td>\n",
       "      <td>139.0</td>\n",
       "      <td>Oberon</td>\n",
       "      <td>2021-04-12</td>\n",
       "      <td>2021-10-01</td>\n",
       "      <td>2.0</td>\n",
       "      <td></td>\n",
       "      <td></td>\n",
       "    </tr>\n",
       "  </tbody>\n",
       "</table>\n",
       "</div>"
      ],
      "text/plain": [
       "                 date path  user_id  cohort_id               ip     id  \\\n",
       "date                                                                     \n",
       "2021-04-12 2021-04-12    /      956        139  162.200.114.251  139.0   \n",
       "\n",
       "              name  start_date    end_date  program_id endpoint startpoint  \n",
       "date                                                                        \n",
       "2021-04-12  Oberon  2021-04-12  2021-10-01         2.0                      "
      ]
     },
     "metadata": {},
     "output_type": "display_data"
    },
    {
     "name": "stdout",
     "output_type": "stream",
     "text": [
      "Student dropped course\n"
     ]
    },
    {
     "data": {
      "text/html": [
       "<div>\n",
       "<style scoped>\n",
       "    .dataframe tbody tr th:only-of-type {\n",
       "        vertical-align: middle;\n",
       "    }\n",
       "\n",
       "    .dataframe tbody tr th {\n",
       "        vertical-align: top;\n",
       "    }\n",
       "\n",
       "    .dataframe thead th {\n",
       "        text-align: right;\n",
       "    }\n",
       "</style>\n",
       "<table border=\"1\" class=\"dataframe\">\n",
       "  <thead>\n",
       "    <tr style=\"text-align: right;\">\n",
       "      <th></th>\n",
       "      <th>date</th>\n",
       "      <th>path</th>\n",
       "      <th>user_id</th>\n",
       "      <th>cohort_id</th>\n",
       "      <th>ip</th>\n",
       "      <th>id</th>\n",
       "      <th>name</th>\n",
       "      <th>start_date</th>\n",
       "      <th>end_date</th>\n",
       "      <th>program_id</th>\n",
       "      <th>endpoint</th>\n",
       "      <th>startpoint</th>\n",
       "    </tr>\n",
       "    <tr>\n",
       "      <th>date</th>\n",
       "      <th></th>\n",
       "      <th></th>\n",
       "      <th></th>\n",
       "      <th></th>\n",
       "      <th></th>\n",
       "      <th></th>\n",
       "      <th></th>\n",
       "      <th></th>\n",
       "      <th></th>\n",
       "      <th></th>\n",
       "      <th></th>\n",
       "      <th></th>\n",
       "    </tr>\n",
       "  </thead>\n",
       "  <tbody>\n",
       "    <tr>\n",
       "      <th>2020-11-08</th>\n",
       "      <td>2020-11-08</td>\n",
       "      <td>html-css/css-i/selectors-and-properties</td>\n",
       "      <td>812</td>\n",
       "      <td>58</td>\n",
       "      <td>24.243.49.105</td>\n",
       "      <td>58.0</td>\n",
       "      <td>Hyperion</td>\n",
       "      <td>2020-05-26</td>\n",
       "      <td>2020-11-10</td>\n",
       "      <td>2.0</td>\n",
       "      <td>selectors-and-properties</td>\n",
       "      <td>html-css</td>\n",
       "    </tr>\n",
       "  </tbody>\n",
       "</table>\n",
       "</div>"
      ],
      "text/plain": [
       "                 date                                     path  user_id  \\\n",
       "date                                                                      \n",
       "2020-11-08 2020-11-08  html-css/css-i/selectors-and-properties      812   \n",
       "\n",
       "            cohort_id             ip    id      name  start_date    end_date  \\\n",
       "date                                                                           \n",
       "2020-11-08         58  24.243.49.105  58.0  Hyperion  2020-05-26  2020-11-10   \n",
       "\n",
       "            program_id                  endpoint startpoint  \n",
       "date                                                         \n",
       "2020-11-08         2.0  selectors-and-properties   html-css  "
      ]
     },
     "metadata": {},
     "output_type": "display_data"
    },
    {
     "name": "stdout",
     "output_type": "stream",
     "text": [
      "Student accessed more after graduation than during course\n"
     ]
    },
    {
     "data": {
      "text/html": [
       "<div>\n",
       "<style scoped>\n",
       "    .dataframe tbody tr th:only-of-type {\n",
       "        vertical-align: middle;\n",
       "    }\n",
       "\n",
       "    .dataframe tbody tr th {\n",
       "        vertical-align: top;\n",
       "    }\n",
       "\n",
       "    .dataframe thead th {\n",
       "        text-align: right;\n",
       "    }\n",
       "</style>\n",
       "<table border=\"1\" class=\"dataframe\">\n",
       "  <thead>\n",
       "    <tr style=\"text-align: right;\">\n",
       "      <th></th>\n",
       "      <th>date</th>\n",
       "      <th>path</th>\n",
       "      <th>user_id</th>\n",
       "      <th>cohort_id</th>\n",
       "      <th>ip</th>\n",
       "      <th>id</th>\n",
       "      <th>name</th>\n",
       "      <th>start_date</th>\n",
       "      <th>end_date</th>\n",
       "      <th>program_id</th>\n",
       "      <th>endpoint</th>\n",
       "      <th>startpoint</th>\n",
       "    </tr>\n",
       "    <tr>\n",
       "      <th>date</th>\n",
       "      <th></th>\n",
       "      <th></th>\n",
       "      <th></th>\n",
       "      <th></th>\n",
       "      <th></th>\n",
       "      <th></th>\n",
       "      <th></th>\n",
       "      <th></th>\n",
       "      <th></th>\n",
       "      <th></th>\n",
       "      <th></th>\n",
       "      <th></th>\n",
       "    </tr>\n",
       "  </thead>\n",
       "  <tbody>\n",
       "    <tr>\n",
       "      <th>2019-03-19</th>\n",
       "      <td>2019-03-19</td>\n",
       "      <td>/</td>\n",
       "      <td>388</td>\n",
       "      <td>31</td>\n",
       "      <td>97.105.19.58</td>\n",
       "      <td>31.0</td>\n",
       "      <td>Andromeda</td>\n",
       "      <td>2019-03-18</td>\n",
       "      <td>2019-07-30</td>\n",
       "      <td>2.0</td>\n",
       "      <td></td>\n",
       "      <td></td>\n",
       "    </tr>\n",
       "  </tbody>\n",
       "</table>\n",
       "</div>"
      ],
      "text/plain": [
       "                 date path  user_id  cohort_id            ip    id       name  \\\n",
       "date                                                                            \n",
       "2019-03-19 2019-03-19    /      388         31  97.105.19.58  31.0  Andromeda   \n",
       "\n",
       "            start_date    end_date  program_id endpoint startpoint  \n",
       "date                                                                \n",
       "2019-03-19  2019-03-18  2019-07-30         2.0                      "
      ]
     },
     "metadata": {},
     "output_type": "display_data"
    },
    {
     "name": "stdout",
     "output_type": "stream",
     "text": [
      "Student dropped course\n"
     ]
    }
   ],
   "source": [
    "display(df[df['user_id'] == 918]) \n",
    "print('This student appears to have dropped the course possibly since the access was on day one and then not again.')\n",
    "display(df[df['user_id']==879])\n",
    "print('Same as student above possibly')\n",
    "display(df[df['user_id'] == 940])\n",
    "print('Possibly same fate as students above')\n",
    "display(df[df['user_id']==619])\n",
    "print('Same as students above')\n",
    "display(df[df['user_id'] == 832].head(1))\n",
    "print('# Not completely sure about this student, accessed it halfway through course')\n",
    "display(df[df['user_id']==278].head(1))\n",
    "print('this student accessed the book more after they graduated than while in the course, and it appears they had access to both web dev and ds content')\n",
    "display(df[df['user_id'] == 539].head(1))\n",
    "print('Appears to be a staff member')\n",
    "display(df[df['user_id']==956].head(1))\n",
    "print('Student dropped course')\n",
    "display(df[df['user_id'] == 812].head(1))\n",
    "print('Student accessed more after graduation than during course')\n",
    "display(df[df['user_id']==388].head(1))\n",
    "print('Student dropped course')"
   ]
  },
  {
   "cell_type": "markdown",
   "metadata": {},
   "source": [
    "### 4. What topics are grads continuing to reference after graduation and into their jobs (for each program)?"
   ]
  },
  {
   "cell_type": "code",
   "execution_count": 37,
   "metadata": {},
   "outputs": [
    {
     "data": {
      "text/html": [
       "<div>\n",
       "<style scoped>\n",
       "    .dataframe tbody tr th:only-of-type {\n",
       "        vertical-align: middle;\n",
       "    }\n",
       "\n",
       "    .dataframe tbody tr th {\n",
       "        vertical-align: top;\n",
       "    }\n",
       "\n",
       "    .dataframe thead th {\n",
       "        text-align: right;\n",
       "    }\n",
       "</style>\n",
       "<table border=\"1\" class=\"dataframe\">\n",
       "  <thead>\n",
       "    <tr style=\"text-align: right;\">\n",
       "      <th></th>\n",
       "      <th>date</th>\n",
       "      <th>path</th>\n",
       "      <th>user_id</th>\n",
       "      <th>cohort_id</th>\n",
       "      <th>ip</th>\n",
       "      <th>id</th>\n",
       "      <th>name</th>\n",
       "      <th>start_date</th>\n",
       "      <th>end_date</th>\n",
       "      <th>program_id</th>\n",
       "      <th>endpoint</th>\n",
       "      <th>startpoint</th>\n",
       "    </tr>\n",
       "  </thead>\n",
       "  <tbody>\n",
       "    <tr>\n",
       "      <th>0</th>\n",
       "      <td>2018-01-26</td>\n",
       "      <td>/</td>\n",
       "      <td>1</td>\n",
       "      <td>8</td>\n",
       "      <td>97.105.19.61</td>\n",
       "      <td>8.0</td>\n",
       "      <td>Hampton</td>\n",
       "      <td>2015-09-22</td>\n",
       "      <td>2016-02-06</td>\n",
       "      <td>1.0</td>\n",
       "      <td></td>\n",
       "      <td></td>\n",
       "    </tr>\n",
       "    <tr>\n",
       "      <th>1</th>\n",
       "      <td>2018-01-26</td>\n",
       "      <td>java-ii</td>\n",
       "      <td>1</td>\n",
       "      <td>8</td>\n",
       "      <td>97.105.19.61</td>\n",
       "      <td>8.0</td>\n",
       "      <td>Hampton</td>\n",
       "      <td>2015-09-22</td>\n",
       "      <td>2016-02-06</td>\n",
       "      <td>1.0</td>\n",
       "      <td>java-ii</td>\n",
       "      <td>java-ii</td>\n",
       "    </tr>\n",
       "    <tr>\n",
       "      <th>2</th>\n",
       "      <td>2018-01-26</td>\n",
       "      <td>java-ii/object-oriented-programming</td>\n",
       "      <td>1</td>\n",
       "      <td>8</td>\n",
       "      <td>97.105.19.61</td>\n",
       "      <td>8.0</td>\n",
       "      <td>Hampton</td>\n",
       "      <td>2015-09-22</td>\n",
       "      <td>2016-02-06</td>\n",
       "      <td>1.0</td>\n",
       "      <td>object-oriented-programming</td>\n",
       "      <td>java-ii</td>\n",
       "    </tr>\n",
       "    <tr>\n",
       "      <th>3</th>\n",
       "      <td>2018-01-26</td>\n",
       "      <td>slides/object_oriented_programming</td>\n",
       "      <td>1</td>\n",
       "      <td>8</td>\n",
       "      <td>97.105.19.61</td>\n",
       "      <td>8.0</td>\n",
       "      <td>Hampton</td>\n",
       "      <td>2015-09-22</td>\n",
       "      <td>2016-02-06</td>\n",
       "      <td>1.0</td>\n",
       "      <td>object_oriented_programming</td>\n",
       "      <td>slides</td>\n",
       "    </tr>\n",
       "    <tr>\n",
       "      <th>4</th>\n",
       "      <td>2018-01-26</td>\n",
       "      <td>javascript-i/conditionals</td>\n",
       "      <td>2</td>\n",
       "      <td>22</td>\n",
       "      <td>97.105.19.61</td>\n",
       "      <td>22.0</td>\n",
       "      <td>Teddy</td>\n",
       "      <td>2018-01-08</td>\n",
       "      <td>2018-05-17</td>\n",
       "      <td>2.0</td>\n",
       "      <td>conditionals</td>\n",
       "      <td>javascript-i</td>\n",
       "    </tr>\n",
       "  </tbody>\n",
       "</table>\n",
       "</div>"
      ],
      "text/plain": [
       "        date                                 path  user_id  cohort_id  \\\n",
       "0 2018-01-26                                    /        1          8   \n",
       "1 2018-01-26                              java-ii        1          8   \n",
       "2 2018-01-26  java-ii/object-oriented-programming        1          8   \n",
       "3 2018-01-26   slides/object_oriented_programming        1          8   \n",
       "4 2018-01-26            javascript-i/conditionals        2         22   \n",
       "\n",
       "             ip    id     name  start_date    end_date  program_id  \\\n",
       "0  97.105.19.61   8.0  Hampton  2015-09-22  2016-02-06         1.0   \n",
       "1  97.105.19.61   8.0  Hampton  2015-09-22  2016-02-06         1.0   \n",
       "2  97.105.19.61   8.0  Hampton  2015-09-22  2016-02-06         1.0   \n",
       "3  97.105.19.61   8.0  Hampton  2015-09-22  2016-02-06         1.0   \n",
       "4  97.105.19.61  22.0    Teddy  2018-01-08  2018-05-17         2.0   \n",
       "\n",
       "                      endpoint    startpoint  \n",
       "0                                             \n",
       "1                      java-ii       java-ii  \n",
       "2  object-oriented-programming       java-ii  \n",
       "3  object_oriented_programming        slides  \n",
       "4                 conditionals  javascript-i  "
      ]
     },
     "execution_count": 37,
     "metadata": {},
     "output_type": "execute_result"
    }
   ],
   "source": [
    "df2 = df.reset_index(drop=True)\n",
    "df2.head()"
   ]
  },
  {
   "cell_type": "code",
   "execution_count": 38,
   "metadata": {},
   "outputs": [],
   "source": [
    "# Split df by program_id and take top ten paths\n",
    "pgm1, pgm2, pgm3, pgm4 = w.split_by_program(df2)"
   ]
  },
  {
   "cell_type": "code",
   "execution_count": 39,
   "metadata": {},
   "outputs": [],
   "source": [
    "# variable to determine after grad access\n",
    "grad_access = (df2['date'] > df2['end_date'])"
   ]
  },
  {
   "cell_type": "code",
   "execution_count": 40,
   "metadata": {},
   "outputs": [
    {
     "data": {
      "image/png": "[encoded data removed]",
      "text/plain": [
       "<Figure size 640x480 with 1 Axes>"
      ]
     },
     "metadata": {},
     "output_type": "display_data"
    }
   ],
   "source": [
    "# Program 1 plot for access after graduation\n",
    "pgm1[grad_access]['path'].value_counts().sort_values(ascending=False).head(10).plot.barh()\n",
    "plt.title('Program 1 Access After Graduation')\n",
    "plt.show()"
   ]
  },
  {
   "cell_type": "markdown",
   "metadata": {},
   "source": [
    "### These are the top 10 lessons accessed after graduation for Program 1"
   ]
  },
  {
   "cell_type": "code",
   "execution_count": 41,
   "metadata": {},
   "outputs": [
    {
     "data": {
      "image/png": "[encoded data removed]",
      "text/plain": [
       "<Figure size 640x480 with 1 Axes>"
      ]
     },
     "metadata": {},
     "output_type": "display_data"
    }
   ],
   "source": [
    "# Program 2 plot for access after graduation\n",
    "pgm2[grad_access]['path'].value_counts().sort_values(ascending=False).head(10).plot.barh()\n",
    "plt.title('Program 2 Access After Graduation')\n",
    "plt.show()"
   ]
  },
  {
   "cell_type": "markdown",
   "metadata": {},
   "source": [
    "### These are the top 10 lessons accessed after graduation for Program 2"
   ]
  },
  {
   "cell_type": "code",
   "execution_count": 42,
   "metadata": {},
   "outputs": [
    {
     "data": {
      "image/png": "[encoded data removed]",
      "text/plain": [
       "<Figure size 640x480 with 1 Axes>"
      ]
     },
     "metadata": {},
     "output_type": "display_data"
    }
   ],
   "source": [
    "# Program 3 plot for access after graduation\n",
    "pgm3[grad_access]['path'].value_counts().sort_values(ascending=False).head(10).plot.barh()\n",
    "plt.title('Program 3 Access After Graduation')\n",
    "plt.show()"
   ]
  },
  {
   "cell_type": "markdown",
   "metadata": {},
   "source": [
    "### These are the top 10 lessons accessed after graduation for Program 3"
   ]
  },
  {
   "cell_type": "code",
   "execution_count": 43,
   "metadata": {},
   "outputs": [
    {
     "data": {
      "image/png": "[encoded data removed]",
      "text/plain": [
       "<Figure size 640x480 with 1 Axes>"
      ]
     },
     "metadata": {},
     "output_type": "display_data"
    }
   ],
   "source": [
    "# Program 4 plot for access after graduation\n",
    "pgm4[grad_access]['path'].value_counts().sort_values(ascending=False).head(10).plot.barh()\n",
    "plt.title('Program 4 Access After Graduation')\n",
    "plt.show()"
   ]
  },
  {
   "cell_type": "markdown",
   "metadata": {},
   "source": [
    "### These are the top 4 lessons accessed after graduation for Program 4"
   ]
  },
  {
   "cell_type": "markdown",
   "metadata": {},
   "source": [
    "### 5. Which lessons are least accessed?"
   ]
  },
  {
   "cell_type": "code",
   "execution_count": 44,
   "metadata": {},
   "outputs": [
    {
     "data": {
      "text/html": [
       "<div>\n",
       "<style scoped>\n",
       "    .dataframe tbody tr th:only-of-type {\n",
       "        vertical-align: middle;\n",
       "    }\n",
       "\n",
       "    .dataframe tbody tr th {\n",
       "        vertical-align: top;\n",
       "    }\n",
       "\n",
       "    .dataframe thead th {\n",
       "        text-align: right;\n",
       "    }\n",
       "</style>\n",
       "<table border=\"1\" class=\"dataframe\">\n",
       "  <thead>\n",
       "    <tr style=\"text-align: right;\">\n",
       "      <th></th>\n",
       "      <th>startpoint</th>\n",
       "      <th>count</th>\n",
       "      <th>proportion</th>\n",
       "    </tr>\n",
       "  </thead>\n",
       "  <tbody>\n",
       "    <tr>\n",
       "      <th>745</th>\n",
       "      <td>javascript-functions</td>\n",
       "      <td>1</td>\n",
       "      <td>0.000001</td>\n",
       "    </tr>\n",
       "    <tr>\n",
       "      <th>746</th>\n",
       "      <td>handouts</td>\n",
       "      <td>1</td>\n",
       "      <td>0.000001</td>\n",
       "    </tr>\n",
       "    <tr>\n",
       "      <th>747</th>\n",
       "      <td>learn-to-code</td>\n",
       "      <td>1</td>\n",
       "      <td>0.000001</td>\n",
       "    </tr>\n",
       "    <tr>\n",
       "      <th>748</th>\n",
       "      <td>wp-login</td>\n",
       "      <td>1</td>\n",
       "      <td>0.000001</td>\n",
       "    </tr>\n",
       "    <tr>\n",
       "      <th>749</th>\n",
       "      <td>register.</td>\n",
       "      <td>1</td>\n",
       "      <td>0.000001</td>\n",
       "    </tr>\n",
       "    <tr>\n",
       "      <th>750</th>\n",
       "      <td>13-storytelling</td>\n",
       "      <td>1</td>\n",
       "      <td>0.000001</td>\n",
       "    </tr>\n",
       "    <tr>\n",
       "      <th>751</th>\n",
       "      <td>2-sql</td>\n",
       "      <td>1</td>\n",
       "      <td>0.000001</td>\n",
       "    </tr>\n",
       "    <tr>\n",
       "      <th>752</th>\n",
       "      <td>wp-admin</td>\n",
       "      <td>1</td>\n",
       "      <td>0.000001</td>\n",
       "    </tr>\n",
       "    <tr>\n",
       "      <th>753</th>\n",
       "      <td>.git</td>\n",
       "      <td>1</td>\n",
       "      <td>0.000001</td>\n",
       "    </tr>\n",
       "    <tr>\n",
       "      <th>754</th>\n",
       "      <td>8._Time_Series.md</td>\n",
       "      <td>1</td>\n",
       "      <td>0.000001</td>\n",
       "    </tr>\n",
       "  </tbody>\n",
       "</table>\n",
       "</div>"
      ],
      "text/plain": [
       "               startpoint  count  proportion\n",
       "745  javascript-functions      1    0.000001\n",
       "746              handouts      1    0.000001\n",
       "747         learn-to-code      1    0.000001\n",
       "748              wp-login      1    0.000001\n",
       "749             register.      1    0.000001\n",
       "750       13-storytelling      1    0.000001\n",
       "751                 2-sql      1    0.000001\n",
       "752              wp-admin      1    0.000001\n",
       "753                  .git      1    0.000001\n",
       "754     8._Time_Series.md      1    0.000001"
      ]
     },
     "execution_count": 44,
     "metadata": {},
     "output_type": "execute_result"
    }
   ],
   "source": [
    "# Using the file startpoint to find the proportion of access\n",
    "path_df = df.startpoint.value_counts().reset_index()\n",
    "path_df2 = df.startpoint.value_counts(normalize=True).reset_index()\n",
    "path_df = pd.merge(path_df, path_df2, how='inner', on='startpoint')\n",
    "path_df.tail(10)"
   ]
  },
  {
   "cell_type": "markdown",
   "metadata": {},
   "source": [
    "### Theres quite a bit that seems to be least accessed equally here"
   ]
  },
  {
   "cell_type": "markdown",
   "metadata": {},
   "source": [
    "## Conclusion"
   ]
  },
  {
   "cell_type": "markdown",
   "metadata": {},
   "source": [
    "### Key Findings"
   ]
  },
  {
   "cell_type": "markdown",
   "metadata": {},
   "source": [
    "### 1. Which lesson appears to attract the most traffic consistently across cohorts (per program)?"
   ]
  },
  {
   "cell_type": "markdown",
   "metadata": {},
   "source": [
    "### Program 1 - Javascript i <p>\n",
    "### Program 2 - Javascript i<p>\n",
    "### Program 3 - Classification<p>\n",
    "### Program 4 - HTML-CSS<p>"
   ]
  },
  {
   "cell_type": "markdown",
   "metadata": {},
   "source": [
    "### 2. Is there a cohort that referred to a lesson significantly more than other cohorts seemed to gloss over?"
   ]
  },
  {
   "cell_type": "markdown",
   "metadata": {},
   "source": [
    "### We can say that the 'Apollo' Cohort spent alot more time in HTML-CSS than others from 40% proportion of access."
   ]
  },
  {
   "cell_type": "markdown",
   "metadata": {},
   "source": [
    "### 3. Are there students who, when active, hardly access the curriculum? If so, what information do you have about these students?"
   ]
  },
  {
   "cell_type": "markdown",
   "metadata": {},
   "source": [
    "### Low access to lessons TOP 10: <p>\n",
    "Users that dropped courses: 918, 879, 940, 619, 388 956<p>\n",
    "User 832: Didn't access course until halfway through course<p>\n",
    "User 278: Accessed more after graduating and appeared to have access to both DS and Webdev access.<p>\n",
    "User 539: Graduated and then became a Staff member<p>\n",
    "User 812: Accessed more after graduation than during course.<p>\n"
   ]
  },
  {
   "cell_type": "markdown",
   "metadata": {},
   "source": [
    "### 4. What topics are grads continuing to reference after graduation and into their jobs (for each program)?"
   ]
  },
  {
   "cell_type": "markdown",
   "metadata": {},
   "source": [
    "The top 3 per program were:<p>\n",
    "Program 1 and 2 (WebDev): Javascript-i, Spring, HTML-CSS<p>\n",
    "Program 3 (DS): SQL, Classification, Anomaly-Detection<p>"
   ]
  },
  {
   "cell_type": "markdown",
   "metadata": {},
   "source": [
    "### 5. Which lessons are least accessed?"
   ]
  },
  {
   "cell_type": "markdown",
   "metadata": {},
   "source": [
    "### There are alot of lessons that were accessed appx 0.000001% of the time.\n",
    "The first 10 are:<p>\n",
    "javascript-functions<p>\n",
    "handouts\t<p>\n",
    "learn-to-code\t<p>\n",
    "wp-login\t<p>\n",
    "register.\t<p>\n",
    "13-storytelling\t<p>\n",
    "2-sql\t<p>\n",
    "wp-admin\t<p>\n",
    ".git\t<p>\n",
    "8._Time_Series.md\t<p>"
   ]
  },
  {
   "cell_type": "markdown",
   "metadata": {},
   "source": [
    "### Recommendations"
   ]
  },
  {
   "cell_type": "markdown",
   "metadata": {},
   "source": [
    "With more time I could've answered all questions pertaining to the received request. I recommend making a category for lessons in the future to make working with the data easier."
   ]
  },
  {
   "cell_type": "markdown",
   "metadata": {},
   "source": []
  }
 ],
 "metadata": {
  "kernelspec": {
   "display_name": "base",
   "language": "python",
   "name": "python3"
  },
  "language_info": {
   "codemirror_mode": {
    "name": "ipython",
    "version": 3
   },
   "file_extension": ".py",
   "mimetype": "text/x-python",
   "name": "python",
   "nbconvert_exporter": "python",
   "pygments_lexer": "ipython3",
   "version": "3.11.3"
  }
 },
 "nbformat": 4,
 "nbformat_minor": 2
}
